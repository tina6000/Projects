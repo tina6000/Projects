{
  "nbformat": 4,
  "nbformat_minor": 0,
  "metadata": {
    "colab": {
      "provenance": []
    },
    "kernelspec": {
      "name": "python3",
      "display_name": "Python 3"
    },
    "language_info": {
      "name": "python"
    }
  },
  "cells": [
    {
      "cell_type": "code",
      "source": [
        "from google.colab import drive\n",
        "drive.mount('/content/drive')"
      ],
      "metadata": {
        "colab": {
          "base_uri": "https://localhost:8080/"
        },
        "id": "s_DTSUV_9O_w",
        "outputId": "c8f27169-51a6-4a1e-9d1a-fa137fc92ec3"
      },
      "execution_count": 1,
      "outputs": [
        {
          "output_type": "stream",
          "name": "stdout",
          "text": [
            "Drive already mounted at /content/drive; to attempt to forcibly remount, call drive.mount(\"/content/drive\", force_remount=True).\n"
          ]
        }
      ]
    },
    {
      "cell_type": "code",
      "source": [
        "# load the SQL magic extension\n",
        "# https://github.com/catherinedevlin/ipython-sql\n",
        "# this extension allows us to connect to DBs and issue SQL command\n",
        "%load_ext sql"
      ],
      "metadata": {
        "id": "96hSqOMW9vXX"
      },
      "execution_count": 2,
      "outputs": []
    },
    {
      "cell_type": "code",
      "source": [
        "# now we can use the magic extension to connect to our SQLite DB\n",
        "# use %sql to write an inline SQL command\n",
        "# use %%sql to write SQL commands in a cell\n",
        "%sql sqlite:////content/drive/MyDrive/Northwind/northwind.sqlite3"
      ],
      "metadata": {
        "id": "31MXHgXy98Hp"
      },
      "execution_count": 4,
      "outputs": []
    },
    {
      "cell_type": "code",
      "source": [
        "# After connecting to the Northwind DB,\n",
        "# let's first check what database engine we are using.\n",
        "%%sql\n",
        "SELECT sqlite_version();"
      ],
      "metadata": {
        "colab": {
          "base_uri": "https://localhost:8080/",
          "height": 95
        },
        "id": "CKvwKyfu-Iu1",
        "outputId": "a521c97d-69cf-44b3-f9db-2ba966935d61"
      },
      "execution_count": 5,
      "outputs": [
        {
          "output_type": "stream",
          "name": "stdout",
          "text": [
            " * sqlite:////content/drive/MyDrive/Northwind/northwind.sqlite3\n",
            "Done.\n"
          ]
        },
        {
          "output_type": "execute_result",
          "data": {
            "text/plain": [
              "[('3.37.2',)]"
            ],
            "text/html": [
              "<table>\n",
              "    <thead>\n",
              "        <tr>\n",
              "            <th>sqlite_version()</th>\n",
              "        </tr>\n",
              "    </thead>\n",
              "    <tbody>\n",
              "        <tr>\n",
              "            <td>3.37.2</td>\n",
              "        </tr>\n",
              "    </tbody>\n",
              "</table>"
            ]
          },
          "metadata": {},
          "execution_count": 5
        }
      ]
    },
    {
      "cell_type": "markdown",
      "source": [
        "## A quick look at Northwind DB\n",
        "\n",
        "### How many tables does this DB have?\n",
        "\n",
        "A database may contain many tables. Let's see how many tables we have in the Northwind DB.\n",
        "\n",
        "Every SQLite database has a special table called `sqlite_master`. It contains a master listing of all database objects (tables, indexes, etc.) in the database and the SQL used to create each object. We can query this table to find out how many tables (excluding `sqlite_master`) we have in our Northwind DB.\n",
        "\n",
        "We will use SQL keywords `SELECT...FROM...WHERE`. Don't worry about them for now. We will soon learn those keywords."
      ],
      "metadata": {
        "id": "kU2yEKdd-lgQ"
      }
    },
    {
      "cell_type": "code",
      "source": [
        "%%sql\n",
        "SELECT name FROM sqlite_master WHERE type='table' AND name NOT LIKE 'sqlite_%';"
      ],
      "metadata": {
        "colab": {
          "base_uri": "https://localhost:8080/",
          "height": 242
        },
        "id": "RFoxofWn-cME",
        "outputId": "2902d277-23a2-4b85-d655-2b4ca0e7f2cf"
      },
      "execution_count": 6,
      "outputs": [
        {
          "output_type": "stream",
          "name": "stdout",
          "text": [
            " * sqlite:////content/drive/MyDrive/Northwind/northwind.sqlite3\n",
            "Done.\n"
          ]
        },
        {
          "output_type": "execute_result",
          "data": {
            "text/plain": [
              "[('Suppliers',),\n",
              " ('Shippers',),\n",
              " ('Employees',),\n",
              " ('Customers',),\n",
              " ('Orders',),\n",
              " ('Categories',),\n",
              " ('Products',),\n",
              " ('OrderDetails',)]"
            ],
            "text/html": [
              "<table>\n",
              "    <thead>\n",
              "        <tr>\n",
              "            <th>name</th>\n",
              "        </tr>\n",
              "    </thead>\n",
              "    <tbody>\n",
              "        <tr>\n",
              "            <td>Suppliers</td>\n",
              "        </tr>\n",
              "        <tr>\n",
              "            <td>Shippers</td>\n",
              "        </tr>\n",
              "        <tr>\n",
              "            <td>Employees</td>\n",
              "        </tr>\n",
              "        <tr>\n",
              "            <td>Customers</td>\n",
              "        </tr>\n",
              "        <tr>\n",
              "            <td>Orders</td>\n",
              "        </tr>\n",
              "        <tr>\n",
              "            <td>Categories</td>\n",
              "        </tr>\n",
              "        <tr>\n",
              "            <td>Products</td>\n",
              "        </tr>\n",
              "        <tr>\n",
              "            <td>OrderDetails</td>\n",
              "        </tr>\n",
              "    </tbody>\n",
              "</table>"
            ]
          },
          "metadata": {},
          "execution_count": 6
        }
      ]
    },
    {
      "cell_type": "code",
      "source": [
        "%%sql\n",
        "SELECT * FROM Products"
      ],
      "metadata": {
        "id": "AATcPxSD_3cV"
      },
      "execution_count": null,
      "outputs": []
    },
    {
      "cell_type": "code",
      "source": [
        "%%sql\n",
        "SELECT\n",
        "  strftime('%Y-%m', OrderDate) AS OrderMonth,\n",
        "  SUM(Detail.Amount) AS MonthlySales\n",
        "FROM Orders\n",
        "JOIN (\n",
        "  SELECT\n",
        "    OrderID,\n",
        "    (UnitPrice * Quantity * (1 - Discount)) AS Amount\n",
        "  FROM OrderDetails\n",
        ") AS Detail ON Orders.OrderID = Detail.OrderID\n",
        "GROUP BY OrderMonth\n",
        "ORDER BY OrderMonth;"
      ],
      "metadata": {
        "id": "wckz3iliBaoG"
      },
      "execution_count": null,
      "outputs": []
    },
    {
      "cell_type": "code",
      "source": [
        "%%sql\n",
        "SELECT\n",
        "  strftime('%Y-%m', OrderDate) AS OrderMonth,\n",
        "  ShipCountry,\n",
        "  SUM(Detail.Amount) AS MonthlySales\n",
        "FROM Orders\n",
        "JOIN (\n",
        "  SELECT\n",
        "    OrderID,\n",
        "    (UnitPrice * Quantity * (1 - Discount)) AS Amount\n",
        "  FROM OrderDetails\n",
        ") AS Detail ON Orders.OrderID = Detail.OrderID\n",
        "GROUP BY OrderMonth, ShipCountry\n",
        "ORDER BY OrderMonth, ShipCountry;"
      ],
      "metadata": {
        "id": "DnowZ9iPBIYm"
      },
      "execution_count": null,
      "outputs": []
    },
    {
      "cell_type": "markdown",
      "source": [
        "Our way-- Bring Data from database to python."
      ],
      "metadata": {
        "id": "GcPirrARBNzE"
      }
    },
    {
      "cell_type": "code",
      "source": [
        "import pandas as pd\n",
        "import sqlite3\n",
        "\n",
        "# Adjust the path according to where your file is located\n",
        "database_path = '/content/drive/MyDrive/Northwind/northwind.sqlite3'\n",
        "\n",
        "# Connect to the database\n",
        "conn = sqlite3.connect(database_path)\n",
        "\n",
        "# Once connected, you can proceed to load your data into pandas DataFrames\n",
        "# Example: orders = pd.read_sql_query(\"SELECT * FROM Orders\", conn)\n",
        "\n"
      ],
      "metadata": {
        "id": "tkQvfFobEU0h"
      },
      "execution_count": 13,
      "outputs": []
    },
    {
      "cell_type": "code",
      "source": [
        "orders = pd.read_sql_query(\"SELECT * FROM Orders\", conn)\n",
        "order_details = pd.read_sql_query(\"SELECT * FROM OrderDetails\", conn)"
      ],
      "metadata": {
        "id": "NSOPmc1uE-9V"
      },
      "execution_count": 14,
      "outputs": []
    },
    {
      "cell_type": "code",
      "source": [
        "# Ensure the columns exist and are correctly named\n",
        "print(orders.columns)\n",
        "print(order_details.columns)"
      ],
      "metadata": {
        "colab": {
          "base_uri": "https://localhost:8080/"
        },
        "id": "d-ei94__FLCh",
        "outputId": "88b67adc-04aa-46df-e7a4-c064ce85618b"
      },
      "execution_count": 17,
      "outputs": [
        {
          "output_type": "stream",
          "name": "stdout",
          "text": [
            "Index(['OrderID', 'CustomerID', 'EmployeeID', 'OrderDate', 'RequiredDate',\n",
            "       'ShippedDate', 'ShipVia', 'Freight', 'ShipName', 'ShipAddress',\n",
            "       'ShipCity', 'ShipRegion', 'ShipPostalCode', 'ShipCountry'],\n",
            "      dtype='object')\n",
            "Index(['OrderID', 'ProductID', 'UnitPrice', 'Quantity', 'Discount'], dtype='object')\n"
          ]
        }
      ]
    },
    {
      "cell_type": "code",
      "source": [
        "import pandas as pd\n",
        "\n",
        "# Assuming `orders` and `order_details` are your DataFrames\n",
        "# First, calculate the Amount for each order detail\n",
        "order_details['Amount'] = order_details['UnitPrice'] * order_details['Quantity'] * (1 - order_details['Discount'])\n",
        "\n",
        "# Merge the Orders DataFrame with the OrderDetails DataFrame on OrderID\n",
        "merged_df = pd.merge(orders, order_details[['OrderID', 'Amount']], on='OrderID')\n",
        "\n",
        "# Convert OrderDate to datetime format to ensure correct handling\n",
        "merged_df['OrderDate'] = pd.to_datetime(merged_df['OrderDate'])\n",
        "\n",
        "# Create a new column for OrderMonth by formatting the OrderDate\n",
        "merged_df['OrderMonth'] = merged_df['OrderDate'].dt.strftime('%Y-%m')\n",
        "\n",
        "# Group by OrderMonth and sum up the Amounts for MonthlySales\n",
        "monthly_sales = merged_df.groupby('OrderMonth')['Amount'].sum().reset_index()\n",
        "\n",
        "# Sort the results by OrderMonth (this step might be optional as groupby should maintain order)\n",
        "monthly_sales = monthly_sales.sort_values('OrderMonth')\n",
        "\n",
        "# Display the DataFrame\n",
        "print(monthly_sales)\n"
      ],
      "metadata": {
        "colab": {
          "base_uri": "https://localhost:8080/"
        },
        "id": "dj0fIRUuFPy_",
        "outputId": "613fcccc-c143-47f3-e94b-acbff227c789"
      },
      "execution_count": 18,
      "outputs": [
        {
          "output_type": "stream",
          "name": "stdout",
          "text": [
            "   OrderMonth       Amount\n",
            "0     2014-07   28169.0950\n",
            "1     2014-08   25485.2750\n",
            "2     2014-09   26381.4000\n",
            "3     2014-10   37515.7250\n",
            "4     2014-11   45600.0450\n",
            "5     2014-12   45239.6300\n",
            "6     2015-01   61258.0700\n",
            "7     2015-02   38483.6350\n",
            "8     2015-03   38547.2200\n",
            "9     2015-04   53032.9525\n",
            "10    2015-05   53781.2900\n",
            "11    2015-06   36362.8025\n",
            "12    2015-07   51020.8575\n",
            "13    2015-08   47287.6700\n",
            "14    2015-09   55629.2425\n",
            "15    2015-10   66749.2260\n",
            "16    2015-11   43533.8090\n",
            "17    2015-12   71398.4285\n",
            "18    2016-01   94222.1105\n",
            "19    2016-02   99415.2875\n",
            "20    2016-03  104854.1550\n",
            "21    2016-04  124052.3025\n",
            "22    2016-05   18333.6305\n"
          ]
        }
      ]
    },
    {
      "cell_type": "code",
      "source": [
        "import pandas as pd\n",
        "\n",
        "# Assuming `orders` and `order_details` are your DataFrames and they're already loaded\n",
        "\n",
        "# Calculate the Amount for each item in the OrderDetails DataFrame\n",
        "order_details['Amount'] = order_details['UnitPrice'] * order_details['Quantity'] * (1 - order_details['Discount'])\n",
        "\n",
        "# Merge the Orders DataFrame with the OrderDetails DataFrame on OrderID to include country and order date information\n",
        "merged_data = pd.merge(orders, order_details[['OrderID', 'Amount']], on='OrderID')\n",
        "\n",
        "# Convert OrderDate to datetime to ensure proper grouping by month\n",
        "merged_data['OrderDate'] = pd.to_datetime(merged_data['OrderDate'])\n",
        "\n",
        "# Extract year and month from OrderDate for grouping\n",
        "merged_data['YearMonth'] = merged_data['OrderDate'].dt.to_period('M')\n",
        "\n",
        "# Group by Country and YearMonth, then sum the Amounts to get MonthlySales\n",
        "monthly_sales_by_country = merged_data.groupby(['ShipCountry', 'YearMonth'])['Amount'].sum().reset_index()\n",
        "\n",
        "# Sort the results by Country and YearMonth for better readability\n",
        "monthly_sales_by_country.sort_values(by=['ShipCountry', 'YearMonth'], inplace=True)\n",
        "\n",
        "# Display the result\n",
        "print(monthly_sales_by_country)\n"
      ],
      "metadata": {
        "colab": {
          "base_uri": "https://localhost:8080/"
        },
        "id": "gHUW9IXWGHqD",
        "outputId": "4546c0ae-78a2-42eb-f428-65b00e1989f8"
      },
      "execution_count": null,
      "outputs": [
        {
          "output_type": "stream",
          "name": "stdout",
          "text": [
            "    ShipCountry YearMonth    Amount\n",
            "0     Argentina   2015-01   319.200\n",
            "1     Argentina   2015-02   443.400\n",
            "2     Argentina   2015-04   225.500\n",
            "3     Argentina   2015-05   110.000\n",
            "4     Argentina   2015-10   706.000\n",
            "..          ...       ...       ...\n",
            "317   Venezuela   2016-01  5827.575\n",
            "318   Venezuela   2016-02  1498.050\n",
            "319   Venezuela   2016-03  5722.385\n",
            "320   Venezuela   2016-04  6945.680\n",
            "321   Venezuela   2016-05   673.920\n",
            "\n",
            "[322 rows x 3 columns]\n"
          ]
        }
      ]
    },
    {
      "cell_type": "code",
      "source": [
        "import pandas as pd\n",
        "employees = pd.read_sql_query(\"SELECT * FROM Employees\", conn)\n",
        "# Assuming `orders`, `order_details`, and `employees` are pre-loaded DataFrames.\n",
        "\n",
        "# Calculate the Amount for each item in the OrderDetails DataFrame.\n",
        "order_details['Amount'] = order_details['UnitPrice'] * order_details['Quantity'] * (1 - order_details['Discount'])\n",
        "\n",
        "# Merge the Orders DataFrame with OrderDetails on OrderID to include Amount.\n",
        "orders_with_details = pd.merge(orders, order_details[['OrderID', 'Amount']], on='OrderID')\n",
        "\n",
        "# Merge the result with Employees to include EmployeeName.\n",
        "sales_by_employee = pd.merge(orders_with_details, employees[['EmployeeID', 'LastName', 'FirstName']], on='EmployeeID')\n",
        "\n",
        "# Convert OrderDate to datetime format for proper grouping by month.\n",
        "sales_by_employee['OrderDate'] = pd.to_datetime(sales_by_employee['OrderDate'])\n",
        "\n",
        "# Extract year and month from OrderDate for grouping purposes.\n",
        "sales_by_employee['YearMonth'] = sales_by_employee['OrderDate'].dt.to_period('M')\n",
        "\n",
        "# Group by EmployeeName and YearMonth, then sum the Amounts to get MonthlySales.\n",
        "monthly_sales_by_employee_name = sales_by_employee.groupby(['EmployeeID', 'YearMonth', 'LastName', 'FirstName'])['Amount'].sum().reset_index()\n",
        "\n",
        "# Sort the results by EmployeeName and YearMonth for better readability.\n",
        "monthly_sales_by_employee_name.sort_values(by=['EmployeeID', 'YearMonth'], inplace=True)\n",
        "\n",
        "# Display the result.\n",
        "print(monthly_sales_by_employee_name)\n"
      ],
      "metadata": {
        "colab": {
          "base_uri": "https://localhost:8080/"
        },
        "id": "378CD1IJGn_k",
        "outputId": "a388e275-bdcd-4e69-b863-e6caa53a3406"
      },
      "execution_count": null,
      "outputs": [
        {
          "output_type": "stream",
          "name": "stdout",
          "text": [
            "     EmployeeID YearMonth   LastName FirstName     Amount\n",
            "0             1   2014-07    Davolio     Nancy   1614.880\n",
            "1             1   2014-08    Davolio     Nancy   5555.900\n",
            "2             1   2014-09    Davolio     Nancy   6651.000\n",
            "3             1   2014-10    Davolio     Nancy   3933.180\n",
            "4             1   2014-11    Davolio     Nancy   9562.645\n",
            "..          ...       ...        ...       ...        ...\n",
            "187           9   2015-12  Dodsworth      Anne   1910.000\n",
            "188           9   2016-01  Dodsworth      Anne   5353.319\n",
            "189           9   2016-02  Dodsworth      Anne  19203.340\n",
            "190           9   2016-03  Dodsworth      Anne   7045.000\n",
            "191           9   2016-04  Dodsworth      Anne   9501.500\n",
            "\n",
            "[192 rows x 5 columns]\n"
          ]
        }
      ]
    },
    {
      "cell_type": "code",
      "source": [
        "monthly_sales_by_employee_name"
      ],
      "metadata": {
        "colab": {
          "base_uri": "https://localhost:8080/",
          "height": 423
        },
        "id": "N42RPQhfHyO9",
        "outputId": "0bba06e7-204a-4cbc-9935-14990b4fe408"
      },
      "execution_count": null,
      "outputs": [
        {
          "output_type": "execute_result",
          "data": {
            "text/plain": [
              "     EmployeeID YearMonth   LastName FirstName     Amount\n",
              "0             1   2014-07    Davolio     Nancy   1614.880\n",
              "1             1   2014-08    Davolio     Nancy   5555.900\n",
              "2             1   2014-09    Davolio     Nancy   6651.000\n",
              "3             1   2014-10    Davolio     Nancy   3933.180\n",
              "4             1   2014-11    Davolio     Nancy   9562.645\n",
              "..          ...       ...        ...       ...        ...\n",
              "187           9   2015-12  Dodsworth      Anne   1910.000\n",
              "188           9   2016-01  Dodsworth      Anne   5353.319\n",
              "189           9   2016-02  Dodsworth      Anne  19203.340\n",
              "190           9   2016-03  Dodsworth      Anne   7045.000\n",
              "191           9   2016-04  Dodsworth      Anne   9501.500\n",
              "\n",
              "[192 rows x 5 columns]"
            ],
            "text/html": [
              "\n",
              "  <div id=\"df-08babdb4-123f-413e-802f-77be74a03e99\" class=\"colab-df-container\">\n",
              "    <div>\n",
              "<style scoped>\n",
              "    .dataframe tbody tr th:only-of-type {\n",
              "        vertical-align: middle;\n",
              "    }\n",
              "\n",
              "    .dataframe tbody tr th {\n",
              "        vertical-align: top;\n",
              "    }\n",
              "\n",
              "    .dataframe thead th {\n",
              "        text-align: right;\n",
              "    }\n",
              "</style>\n",
              "<table border=\"1\" class=\"dataframe\">\n",
              "  <thead>\n",
              "    <tr style=\"text-align: right;\">\n",
              "      <th></th>\n",
              "      <th>EmployeeID</th>\n",
              "      <th>YearMonth</th>\n",
              "      <th>LastName</th>\n",
              "      <th>FirstName</th>\n",
              "      <th>Amount</th>\n",
              "    </tr>\n",
              "  </thead>\n",
              "  <tbody>\n",
              "    <tr>\n",
              "      <th>0</th>\n",
              "      <td>1</td>\n",
              "      <td>2014-07</td>\n",
              "      <td>Davolio</td>\n",
              "      <td>Nancy</td>\n",
              "      <td>1614.880</td>\n",
              "    </tr>\n",
              "    <tr>\n",
              "      <th>1</th>\n",
              "      <td>1</td>\n",
              "      <td>2014-08</td>\n",
              "      <td>Davolio</td>\n",
              "      <td>Nancy</td>\n",
              "      <td>5555.900</td>\n",
              "    </tr>\n",
              "    <tr>\n",
              "      <th>2</th>\n",
              "      <td>1</td>\n",
              "      <td>2014-09</td>\n",
              "      <td>Davolio</td>\n",
              "      <td>Nancy</td>\n",
              "      <td>6651.000</td>\n",
              "    </tr>\n",
              "    <tr>\n",
              "      <th>3</th>\n",
              "      <td>1</td>\n",
              "      <td>2014-10</td>\n",
              "      <td>Davolio</td>\n",
              "      <td>Nancy</td>\n",
              "      <td>3933.180</td>\n",
              "    </tr>\n",
              "    <tr>\n",
              "      <th>4</th>\n",
              "      <td>1</td>\n",
              "      <td>2014-11</td>\n",
              "      <td>Davolio</td>\n",
              "      <td>Nancy</td>\n",
              "      <td>9562.645</td>\n",
              "    </tr>\n",
              "    <tr>\n",
              "      <th>...</th>\n",
              "      <td>...</td>\n",
              "      <td>...</td>\n",
              "      <td>...</td>\n",
              "      <td>...</td>\n",
              "      <td>...</td>\n",
              "    </tr>\n",
              "    <tr>\n",
              "      <th>187</th>\n",
              "      <td>9</td>\n",
              "      <td>2015-12</td>\n",
              "      <td>Dodsworth</td>\n",
              "      <td>Anne</td>\n",
              "      <td>1910.000</td>\n",
              "    </tr>\n",
              "    <tr>\n",
              "      <th>188</th>\n",
              "      <td>9</td>\n",
              "      <td>2016-01</td>\n",
              "      <td>Dodsworth</td>\n",
              "      <td>Anne</td>\n",
              "      <td>5353.319</td>\n",
              "    </tr>\n",
              "    <tr>\n",
              "      <th>189</th>\n",
              "      <td>9</td>\n",
              "      <td>2016-02</td>\n",
              "      <td>Dodsworth</td>\n",
              "      <td>Anne</td>\n",
              "      <td>19203.340</td>\n",
              "    </tr>\n",
              "    <tr>\n",
              "      <th>190</th>\n",
              "      <td>9</td>\n",
              "      <td>2016-03</td>\n",
              "      <td>Dodsworth</td>\n",
              "      <td>Anne</td>\n",
              "      <td>7045.000</td>\n",
              "    </tr>\n",
              "    <tr>\n",
              "      <th>191</th>\n",
              "      <td>9</td>\n",
              "      <td>2016-04</td>\n",
              "      <td>Dodsworth</td>\n",
              "      <td>Anne</td>\n",
              "      <td>9501.500</td>\n",
              "    </tr>\n",
              "  </tbody>\n",
              "</table>\n",
              "<p>192 rows × 5 columns</p>\n",
              "</div>\n",
              "    <div class=\"colab-df-buttons\">\n",
              "\n",
              "  <div class=\"colab-df-container\">\n",
              "    <button class=\"colab-df-convert\" onclick=\"convertToInteractive('df-08babdb4-123f-413e-802f-77be74a03e99')\"\n",
              "            title=\"Convert this dataframe to an interactive table.\"\n",
              "            style=\"display:none;\">\n",
              "\n",
              "  <svg xmlns=\"http://www.w3.org/2000/svg\" height=\"24px\" viewBox=\"0 -960 960 960\">\n",
              "    <path d=\"M120-120v-720h720v720H120Zm60-500h600v-160H180v160Zm220 220h160v-160H400v160Zm0 220h160v-160H400v160ZM180-400h160v-160H180v160Zm440 0h160v-160H620v160ZM180-180h160v-160H180v160Zm440 0h160v-160H620v160Z\"/>\n",
              "  </svg>\n",
              "    </button>\n",
              "\n",
              "  <style>\n",
              "    .colab-df-container {\n",
              "      display:flex;\n",
              "      gap: 12px;\n",
              "    }\n",
              "\n",
              "    .colab-df-convert {\n",
              "      background-color: #E8F0FE;\n",
              "      border: none;\n",
              "      border-radius: 50%;\n",
              "      cursor: pointer;\n",
              "      display: none;\n",
              "      fill: #1967D2;\n",
              "      height: 32px;\n",
              "      padding: 0 0 0 0;\n",
              "      width: 32px;\n",
              "    }\n",
              "\n",
              "    .colab-df-convert:hover {\n",
              "      background-color: #E2EBFA;\n",
              "      box-shadow: 0px 1px 2px rgba(60, 64, 67, 0.3), 0px 1px 3px 1px rgba(60, 64, 67, 0.15);\n",
              "      fill: #174EA6;\n",
              "    }\n",
              "\n",
              "    .colab-df-buttons div {\n",
              "      margin-bottom: 4px;\n",
              "    }\n",
              "\n",
              "    [theme=dark] .colab-df-convert {\n",
              "      background-color: #3B4455;\n",
              "      fill: #D2E3FC;\n",
              "    }\n",
              "\n",
              "    [theme=dark] .colab-df-convert:hover {\n",
              "      background-color: #434B5C;\n",
              "      box-shadow: 0px 1px 3px 1px rgba(0, 0, 0, 0.15);\n",
              "      filter: drop-shadow(0px 1px 2px rgba(0, 0, 0, 0.3));\n",
              "      fill: #FFFFFF;\n",
              "    }\n",
              "  </style>\n",
              "\n",
              "    <script>\n",
              "      const buttonEl =\n",
              "        document.querySelector('#df-08babdb4-123f-413e-802f-77be74a03e99 button.colab-df-convert');\n",
              "      buttonEl.style.display =\n",
              "        google.colab.kernel.accessAllowed ? 'block' : 'none';\n",
              "\n",
              "      async function convertToInteractive(key) {\n",
              "        const element = document.querySelector('#df-08babdb4-123f-413e-802f-77be74a03e99');\n",
              "        const dataTable =\n",
              "          await google.colab.kernel.invokeFunction('convertToInteractive',\n",
              "                                                    [key], {});\n",
              "        if (!dataTable) return;\n",
              "\n",
              "        const docLinkHtml = 'Like what you see? Visit the ' +\n",
              "          '<a target=\"_blank\" href=https://colab.research.google.com/notebooks/data_table.ipynb>data table notebook</a>'\n",
              "          + ' to learn more about interactive tables.';\n",
              "        element.innerHTML = '';\n",
              "        dataTable['output_type'] = 'display_data';\n",
              "        await google.colab.output.renderOutput(dataTable, element);\n",
              "        const docLink = document.createElement('div');\n",
              "        docLink.innerHTML = docLinkHtml;\n",
              "        element.appendChild(docLink);\n",
              "      }\n",
              "    </script>\n",
              "  </div>\n",
              "\n",
              "\n",
              "<div id=\"df-3187f1e0-d755-41e3-8807-7b3fd9907419\">\n",
              "  <button class=\"colab-df-quickchart\" onclick=\"quickchart('df-3187f1e0-d755-41e3-8807-7b3fd9907419')\"\n",
              "            title=\"Suggest charts\"\n",
              "            style=\"display:none;\">\n",
              "\n",
              "<svg xmlns=\"http://www.w3.org/2000/svg\" height=\"24px\"viewBox=\"0 0 24 24\"\n",
              "     width=\"24px\">\n",
              "    <g>\n",
              "        <path d=\"M19 3H5c-1.1 0-2 .9-2 2v14c0 1.1.9 2 2 2h14c1.1 0 2-.9 2-2V5c0-1.1-.9-2-2-2zM9 17H7v-7h2v7zm4 0h-2V7h2v10zm4 0h-2v-4h2v4z\"/>\n",
              "    </g>\n",
              "</svg>\n",
              "  </button>\n",
              "\n",
              "<style>\n",
              "  .colab-df-quickchart {\n",
              "      --bg-color: #E8F0FE;\n",
              "      --fill-color: #1967D2;\n",
              "      --hover-bg-color: #E2EBFA;\n",
              "      --hover-fill-color: #174EA6;\n",
              "      --disabled-fill-color: #AAA;\n",
              "      --disabled-bg-color: #DDD;\n",
              "  }\n",
              "\n",
              "  [theme=dark] .colab-df-quickchart {\n",
              "      --bg-color: #3B4455;\n",
              "      --fill-color: #D2E3FC;\n",
              "      --hover-bg-color: #434B5C;\n",
              "      --hover-fill-color: #FFFFFF;\n",
              "      --disabled-bg-color: #3B4455;\n",
              "      --disabled-fill-color: #666;\n",
              "  }\n",
              "\n",
              "  .colab-df-quickchart {\n",
              "    background-color: var(--bg-color);\n",
              "    border: none;\n",
              "    border-radius: 50%;\n",
              "    cursor: pointer;\n",
              "    display: none;\n",
              "    fill: var(--fill-color);\n",
              "    height: 32px;\n",
              "    padding: 0;\n",
              "    width: 32px;\n",
              "  }\n",
              "\n",
              "  .colab-df-quickchart:hover {\n",
              "    background-color: var(--hover-bg-color);\n",
              "    box-shadow: 0 1px 2px rgba(60, 64, 67, 0.3), 0 1px 3px 1px rgba(60, 64, 67, 0.15);\n",
              "    fill: var(--button-hover-fill-color);\n",
              "  }\n",
              "\n",
              "  .colab-df-quickchart-complete:disabled,\n",
              "  .colab-df-quickchart-complete:disabled:hover {\n",
              "    background-color: var(--disabled-bg-color);\n",
              "    fill: var(--disabled-fill-color);\n",
              "    box-shadow: none;\n",
              "  }\n",
              "\n",
              "  .colab-df-spinner {\n",
              "    border: 2px solid var(--fill-color);\n",
              "    border-color: transparent;\n",
              "    border-bottom-color: var(--fill-color);\n",
              "    animation:\n",
              "      spin 1s steps(1) infinite;\n",
              "  }\n",
              "\n",
              "  @keyframes spin {\n",
              "    0% {\n",
              "      border-color: transparent;\n",
              "      border-bottom-color: var(--fill-color);\n",
              "      border-left-color: var(--fill-color);\n",
              "    }\n",
              "    20% {\n",
              "      border-color: transparent;\n",
              "      border-left-color: var(--fill-color);\n",
              "      border-top-color: var(--fill-color);\n",
              "    }\n",
              "    30% {\n",
              "      border-color: transparent;\n",
              "      border-left-color: var(--fill-color);\n",
              "      border-top-color: var(--fill-color);\n",
              "      border-right-color: var(--fill-color);\n",
              "    }\n",
              "    40% {\n",
              "      border-color: transparent;\n",
              "      border-right-color: var(--fill-color);\n",
              "      border-top-color: var(--fill-color);\n",
              "    }\n",
              "    60% {\n",
              "      border-color: transparent;\n",
              "      border-right-color: var(--fill-color);\n",
              "    }\n",
              "    80% {\n",
              "      border-color: transparent;\n",
              "      border-right-color: var(--fill-color);\n",
              "      border-bottom-color: var(--fill-color);\n",
              "    }\n",
              "    90% {\n",
              "      border-color: transparent;\n",
              "      border-bottom-color: var(--fill-color);\n",
              "    }\n",
              "  }\n",
              "</style>\n",
              "\n",
              "  <script>\n",
              "    async function quickchart(key) {\n",
              "      const quickchartButtonEl =\n",
              "        document.querySelector('#' + key + ' button');\n",
              "      quickchartButtonEl.disabled = true;  // To prevent multiple clicks.\n",
              "      quickchartButtonEl.classList.add('colab-df-spinner');\n",
              "      try {\n",
              "        const charts = await google.colab.kernel.invokeFunction(\n",
              "            'suggestCharts', [key], {});\n",
              "      } catch (error) {\n",
              "        console.error('Error during call to suggestCharts:', error);\n",
              "      }\n",
              "      quickchartButtonEl.classList.remove('colab-df-spinner');\n",
              "      quickchartButtonEl.classList.add('colab-df-quickchart-complete');\n",
              "    }\n",
              "    (() => {\n",
              "      let quickchartButtonEl =\n",
              "        document.querySelector('#df-3187f1e0-d755-41e3-8807-7b3fd9907419 button');\n",
              "      quickchartButtonEl.style.display =\n",
              "        google.colab.kernel.accessAllowed ? 'block' : 'none';\n",
              "    })();\n",
              "  </script>\n",
              "</div>\n",
              "\n",
              "  <div id=\"id_e0fea629-6f5d-4e65-a833-7b5eb4a33042\">\n",
              "    <style>\n",
              "      .colab-df-generate {\n",
              "        background-color: #E8F0FE;\n",
              "        border: none;\n",
              "        border-radius: 50%;\n",
              "        cursor: pointer;\n",
              "        display: none;\n",
              "        fill: #1967D2;\n",
              "        height: 32px;\n",
              "        padding: 0 0 0 0;\n",
              "        width: 32px;\n",
              "      }\n",
              "\n",
              "      .colab-df-generate:hover {\n",
              "        background-color: #E2EBFA;\n",
              "        box-shadow: 0px 1px 2px rgba(60, 64, 67, 0.3), 0px 1px 3px 1px rgba(60, 64, 67, 0.15);\n",
              "        fill: #174EA6;\n",
              "      }\n",
              "\n",
              "      [theme=dark] .colab-df-generate {\n",
              "        background-color: #3B4455;\n",
              "        fill: #D2E3FC;\n",
              "      }\n",
              "\n",
              "      [theme=dark] .colab-df-generate:hover {\n",
              "        background-color: #434B5C;\n",
              "        box-shadow: 0px 1px 3px 1px rgba(0, 0, 0, 0.15);\n",
              "        filter: drop-shadow(0px 1px 2px rgba(0, 0, 0, 0.3));\n",
              "        fill: #FFFFFF;\n",
              "      }\n",
              "    </style>\n",
              "    <button class=\"colab-df-generate\" onclick=\"generateWithVariable('monthly_sales_by_employee_name')\"\n",
              "            title=\"Generate code using this dataframe.\"\n",
              "            style=\"display:none;\">\n",
              "\n",
              "  <svg xmlns=\"http://www.w3.org/2000/svg\" height=\"24px\"viewBox=\"0 0 24 24\"\n",
              "       width=\"24px\">\n",
              "    <path d=\"M7,19H8.4L18.45,9,17,7.55,7,17.6ZM5,21V16.75L18.45,3.32a2,2,0,0,1,2.83,0l1.4,1.43a1.91,1.91,0,0,1,.58,1.4,1.91,1.91,0,0,1-.58,1.4L9.25,21ZM18.45,9,17,7.55Zm-12,3A5.31,5.31,0,0,0,4.9,8.1,5.31,5.31,0,0,0,1,6.5,5.31,5.31,0,0,0,4.9,4.9,5.31,5.31,0,0,0,6.5,1,5.31,5.31,0,0,0,8.1,4.9,5.31,5.31,0,0,0,12,6.5,5.46,5.46,0,0,0,6.5,12Z\"/>\n",
              "  </svg>\n",
              "    </button>\n",
              "    <script>\n",
              "      (() => {\n",
              "      const buttonEl =\n",
              "        document.querySelector('#id_e0fea629-6f5d-4e65-a833-7b5eb4a33042 button.colab-df-generate');\n",
              "      buttonEl.style.display =\n",
              "        google.colab.kernel.accessAllowed ? 'block' : 'none';\n",
              "\n",
              "      buttonEl.onclick = () => {\n",
              "        google.colab.notebook.generateWithVariable('monthly_sales_by_employee_name');\n",
              "      }\n",
              "      })();\n",
              "    </script>\n",
              "  </div>\n",
              "\n",
              "    </div>\n",
              "  </div>\n"
            ],
            "application/vnd.google.colaboratory.intrinsic+json": {
              "type": "dataframe",
              "variable_name": "monthly_sales_by_employee_name",
              "summary": "{\n  \"name\": \"monthly_sales_by_employee_name\",\n  \"rows\": 192,\n  \"fields\": [\n    {\n      \"column\": \"EmployeeID\",\n      \"properties\": {\n        \"dtype\": \"number\",\n        \"std\": 2,\n        \"min\": 1,\n        \"max\": 9,\n        \"num_unique_values\": 9,\n        \"samples\": [\n          8,\n          2,\n          6\n        ],\n        \"semantic_type\": \"\",\n        \"description\": \"\"\n      }\n    },\n    {\n      \"column\": \"YearMonth\",\n      \"properties\": {\n        \"dtype\": \"period[M]\",\n        \"num_unique_values\": 23,\n        \"samples\": [\n          \"2015-10\",\n          \"2015-04\",\n          \"2014-07\"\n        ],\n        \"semantic_type\": \"\",\n        \"description\": \"\"\n      }\n    },\n    {\n      \"column\": \"LastName\",\n      \"properties\": {\n        \"dtype\": \"category\",\n        \"num_unique_values\": 9,\n        \"samples\": [\n          \"Callahan\",\n          \"Fuller\",\n          \"Suyama\"\n        ],\n        \"semantic_type\": \"\",\n        \"description\": \"\"\n      }\n    },\n    {\n      \"column\": \"FirstName\",\n      \"properties\": {\n        \"dtype\": \"category\",\n        \"num_unique_values\": 9,\n        \"samples\": [\n          \"Laura\",\n          \"Andrew\",\n          \"Michael\"\n        ],\n        \"semantic_type\": \"\",\n        \"description\": \"\"\n      }\n    },\n    {\n      \"column\": \"Amount\",\n      \"properties\": {\n        \"dtype\": \"number\",\n        \"std\": 5852.8697385585765,\n        \"min\": 23.8,\n        \"max\": 30990.28,\n        \"num_unique_values\": 192,\n        \"samples\": [\n          1929.975,\n          3832.0,\n          5230.08\n        ],\n        \"semantic_type\": \"\",\n        \"description\": \"\"\n      }\n    }\n  ]\n}"
            }
          },
          "metadata": {},
          "execution_count": 15
        }
      ]
    },
    {
      "cell_type": "markdown",
      "source": [
        "Some Visualization"
      ],
      "metadata": {
        "id": "0Wxj7nhmWAOm"
      }
    },
    {
      "cell_type": "code",
      "source": [
        "# Sales by Year\n",
        "import pandas as pd\n",
        "import matplotlib.pyplot as plt\n",
        "\n",
        "# Assuming orders and order_details are your pre-loaded DataFrames\n",
        "\n",
        "# Calculate the Amount for each order detail\n",
        "order_details['Amount'] = order_details['UnitPrice'] * order_details['Quantity'] * (1 - order_details['Discount'])\n",
        "\n",
        "# Merge orders with order_details on OrderID\n",
        "merged_df = pd.merge(orders, order_details[['OrderID', 'Amount']], on='OrderID')\n",
        "\n",
        "# Convert OrderDate to datetime to extract the year\n",
        "merged_df['OrderDate'] = pd.to_datetime(merged_df['OrderDate'])\n",
        "merged_df['Year'] = merged_df['OrderDate'].dt.year\n",
        "\n",
        "# Group by Year and sum the Amounts to get total sales\n",
        "yearly_sales = merged_df.groupby('Year')['Amount'].sum().reset_index()\n",
        "\n",
        "# Plotting\n",
        "plt.figure(figsize=(10, 6))\n",
        "plt.bar(yearly_sales['Year'], yearly_sales['Amount'], color='skyblue')\n",
        "plt.xlabel('Year')\n",
        "plt.ylabel('Total Sales')\n",
        "plt.title('Total Sales by Year')\n",
        "plt.xticks(yearly_sales['Year'])\n",
        "plt.grid(axis='y')\n",
        "plt.show()\n",
        "\n"
      ],
      "metadata": {
        "colab": {
          "base_uri": "https://localhost:8080/",
          "height": 564
        },
        "id": "CgrYJ6mjV_wP",
        "outputId": "51f19136-ebc8-474b-a78a-dfe803cf3b33"
      },
      "execution_count": 20,
      "outputs": [
        {
          "output_type": "display_data",
          "data": {
            "text/plain": [
              "<Figure size 1000x600 with 1 Axes>"
            ],
            "image/png": "[encoded data removed]"
          },
          "metadata": {}
        }
      ]
    },
    {
      "cell_type": "code",
      "source": [
        "# Sales by Year\n",
        "import pandas as pd\n",
        "import matplotlib.pyplot as plt\n",
        "\n",
        "# Assuming orders and order_details are your pre-loaded DataFrames\n",
        "\n",
        "# Calculate the Amount for each order detail\n",
        "order_details['Amount'] = order_details['UnitPrice'] * order_details['Quantity'] * (1 - order_details['Discount'])\n",
        "\n",
        "# Merge orders with order_details on OrderID to include ShipCountry\n",
        "merged_df = pd.merge(orders, order_details[['OrderID', 'Amount']], on='OrderID')\n",
        "\n",
        "# Group by ShipCountry and sum the Amounts to get total sales\n",
        "sales_by_country = merged_df.groupby('ShipCountry')['Amount'].sum().reset_index()\n",
        "\n",
        "# Sorting sales by country for better visualization\n",
        "sales_by_country.sort_values('Amount', ascending=False, inplace=True)\n",
        "\n",
        "# Plotting\n",
        "plt.figure(figsize=(12, 8))\n",
        "plt.barh(sales_by_country['ShipCountry'], sales_by_country['Amount'], color='lightgreen')\n",
        "plt.xlabel('Total Sales')\n",
        "plt.ylabel('Country')\n",
        "plt.title('Total Sales by Country')\n",
        "plt.grid(axis='x')\n",
        "plt.tight_layout()  # Adjust layout to make room for the country labels\n",
        "plt.show()\n"
      ],
      "metadata": {
        "colab": {
          "base_uri": "https://localhost:8080/",
          "height": 807
        },
        "id": "2Sx_rX1WWRvL",
        "outputId": "bf3a2be4-eda4-4339-cd0d-05f7cdcdaf58"
      },
      "execution_count": 22,
      "outputs": [
        {
          "output_type": "display_data",
          "data": {
            "text/plain": [
              "<Figure size 1200x800 with 1 Axes>"
            ],
            "image/png": "[encoded data removed]"
          },
          "metadata": {}
        }
      ]
    },
    {
      "cell_type": "code",
      "source": [
        "# Sales by Employee\n",
        "import pandas as pd\n",
        "import matplotlib.pyplot as plt\n",
        "\n",
        "# Assuming orders and order_details are your pre-loaded DataFrames\n",
        "\n",
        "# Calculate the Amount for each order detail\n",
        "order_details['Amount'] = order_details['UnitPrice'] * order_details['Quantity'] * (1 - order_details['Discount'])\n",
        "\n",
        "# Merge orders with order_details on OrderID to include EmployeeID\n",
        "merged_df = pd.merge(orders, order_details[['OrderID', 'Amount']], on='OrderID')\n",
        "\n",
        "# Group by EmployeeID and sum the Amounts to get total sales\n",
        "sales_by_employee = merged_df.groupby('EmployeeID')['Amount'].sum().reset_index()\n",
        "\n",
        "# If you have an employees DataFrame with EmployeeID and EmployeeName,\n",
        "# you can merge it here to replace EmployeeID with EmployeeName for better readability:\n",
        "# sales_by_employee = pd.merge(sales_by_employee, employees[['EmployeeID', 'LastName', 'FirstName']], on='EmployeeID')\n",
        "# And then, for plotting, use 'EmployeeName' instead of 'EmployeeID'\n",
        "\n",
        "# Sorting sales by employee for better visualization\n",
        "sales_by_employee.sort_values('Amount', ascending=True, inplace=True)\n",
        "\n",
        "# Plotting\n",
        "plt.figure(figsize=(10, 7))\n",
        "plt.barh(sales_by_employee['EmployeeID'], sales_by_employee['Amount'], color='skyblue')\n",
        "plt.xlabel('Total Sales')\n",
        "plt.ylabel('Employee ID')\n",
        "plt.title('Total Sales by Employee')\n",
        "plt.grid(axis='x')\n",
        "plt.tight_layout()  # Adjust layout to make room for the labels\n",
        "plt.show()\n"
      ],
      "metadata": {
        "colab": {
          "base_uri": "https://localhost:8080/",
          "height": 707
        },
        "id": "Y6tOX4ciWebz",
        "outputId": "d2f21869-7e59-49d6-92c0-2cb64aba9310"
      },
      "execution_count": 23,
      "outputs": [
        {
          "output_type": "display_data",
          "data": {
            "text/plain": [
              "<Figure size 1000x700 with 1 Axes>"
            ],
            "image/png": "[encoded data removed]"
          },
          "metadata": {}
        }
      ]
    },
    {
      "cell_type": "code",
      "source": [
        "!pip install pandas matplotlib fbprophet"
      ],
      "metadata": {
        "colab": {
          "base_uri": "https://localhost:8080/"
        },
        "id": "-UKsMVd8Xcch",
        "outputId": "572d2544-fb2d-4881-b955-8d5633cb4195"
      },
      "execution_count": 25,
      "outputs": [
        {
          "output_type": "stream",
          "name": "stdout",
          "text": [
            "Requirement already satisfied: pandas in /usr/local/lib/python3.10/dist-packages (1.5.3)\n",
            "Requirement already satisfied: matplotlib in /usr/local/lib/python3.10/dist-packages (3.7.1)\n",
            "Collecting fbprophet\n",
            "  Downloading fbprophet-0.7.1.tar.gz (64 kB)\n",
            "\u001b[2K     \u001b[90m━━━━━━━━━━━━━━━━━━━━━━━━━━━━━━━━━━━━━━━━\u001b[0m \u001b[32m64.0/64.0 kB\u001b[0m \u001b[31m2.0 MB/s\u001b[0m eta \u001b[36m0:00:00\u001b[0m\n",
            "\u001b[?25h  Preparing metadata (setup.py) ... \u001b[?25l\u001b[?25hdone\n",
            "Requirement already satisfied: python-dateutil>=2.8.1 in /usr/local/lib/python3.10/dist-packages (from pandas) (2.8.2)\n",
            "Requirement already satisfied: pytz>=2020.1 in /usr/local/lib/python3.10/dist-packages (from pandas) (2023.4)\n",
            "Requirement already satisfied: numpy>=1.21.0 in /usr/local/lib/python3.10/dist-packages (from pandas) (1.25.2)\n",
            "Requirement already satisfied: contourpy>=1.0.1 in /usr/local/lib/python3.10/dist-packages (from matplotlib) (1.2.0)\n",
            "Requirement already satisfied: cycler>=0.10 in /usr/local/lib/python3.10/dist-packages (from matplotlib) (0.12.1)\n",
            "Requirement already satisfied: fonttools>=4.22.0 in /usr/local/lib/python3.10/dist-packages (from matplotlib) (4.50.0)\n",
            "Requirement already satisfied: kiwisolver>=1.0.1 in /usr/local/lib/python3.10/dist-packages (from matplotlib) (1.4.5)\n",
            "Requirement already satisfied: packaging>=20.0 in /usr/local/lib/python3.10/dist-packages (from matplotlib) (24.0)\n",
            "Requirement already satisfied: pillow>=6.2.0 in /usr/local/lib/python3.10/dist-packages (from matplotlib) (9.4.0)\n",
            "Requirement already satisfied: pyparsing>=2.3.1 in /usr/local/lib/python3.10/dist-packages (from matplotlib) (3.1.2)\n",
            "Requirement already satisfied: Cython>=0.22 in /usr/local/lib/python3.10/dist-packages (from fbprophet) (3.0.10)\n",
            "Collecting cmdstanpy==0.9.5 (from fbprophet)\n",
            "  Downloading cmdstanpy-0.9.5-py3-none-any.whl (37 kB)\n",
            "Collecting pystan>=2.14 (from fbprophet)\n",
            "  Downloading pystan-3.9.0-py3-none-any.whl (13 kB)\n",
            "Collecting LunarCalendar>=0.0.9 (from fbprophet)\n",
            "  Downloading LunarCalendar-0.0.9-py2.py3-none-any.whl (18 kB)\n",
            "Collecting convertdate>=2.1.2 (from fbprophet)\n",
            "  Downloading convertdate-2.4.0-py3-none-any.whl (47 kB)\n",
            "\u001b[2K     \u001b[90m━━━━━━━━━━━━━━━━━━━━━━━━━━━━━━━━━━━━━━━━\u001b[0m \u001b[32m47.9/47.9 kB\u001b[0m \u001b[31m5.1 MB/s\u001b[0m eta \u001b[36m0:00:00\u001b[0m\n",
            "\u001b[?25hRequirement already satisfied: holidays>=0.10.2 in /usr/local/lib/python3.10/dist-packages (from fbprophet) (0.45)\n",
            "Collecting setuptools-git>=1.2 (from fbprophet)\n",
            "  Downloading setuptools_git-1.2-py2.py3-none-any.whl (10 kB)\n",
            "Requirement already satisfied: tqdm>=4.36.1 in /usr/local/lib/python3.10/dist-packages (from fbprophet) (4.66.2)\n",
            "Collecting pymeeus<=1,>=0.3.13 (from convertdate>=2.1.2->fbprophet)\n",
            "  Downloading PyMeeus-0.5.12.tar.gz (5.8 MB)\n",
            "\u001b[2K     \u001b[90m━━━━━━━━━━━━━━━━━━━━━━━━━━━━━━━━━━━━━━━━\u001b[0m \u001b[32m5.8/5.8 MB\u001b[0m \u001b[31m45.9 MB/s\u001b[0m eta \u001b[36m0:00:00\u001b[0m\n",
            "\u001b[?25h  Preparing metadata (setup.py) ... \u001b[?25l\u001b[?25hdone\n",
            "Collecting ephem>=3.7.5.3 (from LunarCalendar>=0.0.9->fbprophet)\n",
            "  Downloading ephem-4.1.5-cp310-cp310-manylinux_2_17_x86_64.manylinux2014_x86_64.whl (1.8 MB)\n",
            "\u001b[2K     \u001b[90m━━━━━━━━━━━━━━━━━━━━━━━━━━━━━━━━━━━━━━━━\u001b[0m \u001b[32m1.8/1.8 MB\u001b[0m \u001b[31m20.2 MB/s\u001b[0m eta \u001b[36m0:00:00\u001b[0m\n",
            "\u001b[?25hRequirement already satisfied: aiohttp<4.0,>=3.6 in /usr/local/lib/python3.10/dist-packages (from pystan>=2.14->fbprophet) (3.9.3)\n",
            "Collecting clikit<0.7,>=0.6 (from pystan>=2.14->fbprophet)\n",
            "  Downloading clikit-0.6.2-py2.py3-none-any.whl (91 kB)\n",
            "\u001b[2K     \u001b[90m━━━━━━━━━━━━━━━━━━━━━━━━━━━━━━━━━━━━━━━━\u001b[0m \u001b[32m91.8/91.8 kB\u001b[0m \u001b[31m8.4 MB/s\u001b[0m eta \u001b[36m0:00:00\u001b[0m\n",
            "\u001b[?25hCollecting httpstan<4.13,>=4.12 (from pystan>=2.14->fbprophet)\n",
            "  Downloading httpstan-4.12.0-cp310-cp310-manylinux_2_17_x86_64.manylinux2014_x86_64.whl (45.3 MB)\n",
            "\u001b[2K     \u001b[90m━━━━━━━━━━━━━━━━━━━━━━━━━━━━━━━━━━━━━━━━\u001b[0m \u001b[32m45.3/45.3 MB\u001b[0m \u001b[31m8.3 MB/s\u001b[0m eta \u001b[36m0:00:00\u001b[0m\n",
            "\u001b[?25hCollecting pysimdjson<6.0.0,>=5.0.2 (from pystan>=2.14->fbprophet)\n",
            "  Downloading pysimdjson-5.0.2-cp310-cp310-manylinux_2_17_x86_64.manylinux2014_x86_64.whl (1.8 MB)\n",
            "\u001b[2K     \u001b[90m━━━━━━━━━━━━━━━━━━━━━━━━━━━━━━━━━━━━━━━━\u001b[0m \u001b[32m1.8/1.8 MB\u001b[0m \u001b[31m38.5 MB/s\u001b[0m eta \u001b[36m0:00:00\u001b[0m\n",
            "\u001b[?25hRequirement already satisfied: setuptools in /usr/local/lib/python3.10/dist-packages (from pystan>=2.14->fbprophet) (67.7.2)\n",
            "Requirement already satisfied: six>=1.5 in /usr/local/lib/python3.10/dist-packages (from python-dateutil>=2.8.1->pandas) (1.16.0)\n",
            "Requirement already satisfied: aiosignal>=1.1.2 in /usr/local/lib/python3.10/dist-packages (from aiohttp<4.0,>=3.6->pystan>=2.14->fbprophet) (1.3.1)\n",
            "Requirement already satisfied: attrs>=17.3.0 in /usr/local/lib/python3.10/dist-packages (from aiohttp<4.0,>=3.6->pystan>=2.14->fbprophet) (23.2.0)\n",
            "Requirement already satisfied: frozenlist>=1.1.1 in /usr/local/lib/python3.10/dist-packages (from aiohttp<4.0,>=3.6->pystan>=2.14->fbprophet) (1.4.1)\n",
            "Requirement already satisfied: multidict<7.0,>=4.5 in /usr/local/lib/python3.10/dist-packages (from aiohttp<4.0,>=3.6->pystan>=2.14->fbprophet) (6.0.5)\n",
            "Requirement already satisfied: yarl<2.0,>=1.0 in /usr/local/lib/python3.10/dist-packages (from aiohttp<4.0,>=3.6->pystan>=2.14->fbprophet) (1.9.4)\n",
            "Requirement already satisfied: async-timeout<5.0,>=4.0 in /usr/local/lib/python3.10/dist-packages (from aiohttp<4.0,>=3.6->pystan>=2.14->fbprophet) (4.0.3)\n",
            "Collecting crashtest<0.4.0,>=0.3.0 (from clikit<0.7,>=0.6->pystan>=2.14->fbprophet)\n",
            "  Downloading crashtest-0.3.1-py3-none-any.whl (7.0 kB)\n",
            "Collecting pastel<0.3.0,>=0.2.0 (from clikit<0.7,>=0.6->pystan>=2.14->fbprophet)\n",
            "  Downloading pastel-0.2.1-py2.py3-none-any.whl (6.0 kB)\n",
            "Collecting pylev<2.0,>=1.3 (from clikit<0.7,>=0.6->pystan>=2.14->fbprophet)\n",
            "  Downloading pylev-1.4.0-py2.py3-none-any.whl (6.1 kB)\n",
            "Requirement already satisfied: appdirs<2.0,>=1.4 in /usr/local/lib/python3.10/dist-packages (from httpstan<4.13,>=4.12->pystan>=2.14->fbprophet) (1.4.4)\n",
            "Collecting marshmallow<4.0,>=3.10 (from httpstan<4.13,>=4.12->pystan>=2.14->fbprophet)\n",
            "  Downloading marshmallow-3.21.1-py3-none-any.whl (49 kB)\n",
            "\u001b[2K     \u001b[90m━━━━━━━━━━━━━━━━━━━━━━━━━━━━━━━━━━━━━━━━\u001b[0m \u001b[32m49.4/49.4 kB\u001b[0m \u001b[31m4.8 MB/s\u001b[0m eta \u001b[36m0:00:00\u001b[0m\n",
            "\u001b[?25hCollecting webargs<9.0,>=8.0 (from httpstan<4.13,>=4.12->pystan>=2.14->fbprophet)\n",
            "  Downloading webargs-8.4.0-py3-none-any.whl (31 kB)\n",
            "Requirement already satisfied: idna>=2.0 in /usr/local/lib/python3.10/dist-packages (from yarl<2.0,>=1.0->aiohttp<4.0,>=3.6->pystan>=2.14->fbprophet) (3.6)\n",
            "Building wheels for collected packages: fbprophet, pymeeus\n",
            "  \u001b[1;31merror\u001b[0m: \u001b[1msubprocess-exited-with-error\u001b[0m\n",
            "  \n",
            "  \u001b[31m×\u001b[0m \u001b[32mpython setup.py bdist_wheel\u001b[0m did not run successfully.\n",
            "  \u001b[31m│\u001b[0m exit code: \u001b[1;36m1\u001b[0m\n",
            "  \u001b[31m╰─>\u001b[0m See above for output.\n",
            "  \n",
            "  \u001b[1;35mnote\u001b[0m: This error originates from a subprocess, and is likely not a problem with pip.\n",
            "  Building wheel for fbprophet (setup.py) ... \u001b[?25lerror\n",
            "\u001b[31m  ERROR: Failed building wheel for fbprophet\u001b[0m\u001b[31m\n",
            "\u001b[0m\u001b[?25h  Running setup.py clean for fbprophet\n",
            "  Building wheel for pymeeus (setup.py) ... \u001b[?25l\u001b[?25hdone\n",
            "  Created wheel for pymeeus: filename=PyMeeus-0.5.12-py3-none-any.whl size=732001 sha256=e606b456045fd34658cbd18e73321ca2c5fc231bea2e27c48dfaa2a52bf15716\n",
            "  Stored in directory: /root/.cache/pip/wheels/d6/67/78/aa2e8d108639dd23a5e9e72a4fc88bb44f5541894382712f48\n",
            "Successfully built pymeeus\n",
            "Failed to build fbprophet\n",
            "\u001b[31mERROR: Could not build wheels for fbprophet, which is required to install pyproject.toml-based projects\u001b[0m\u001b[31m\n",
            "\u001b[0m"
          ]
        }
      ]
    },
    {
      "cell_type": "code",
      "source": [
        "# Lets forecast\n",
        "from prophet import Prophet\n",
        "import pandas as pd\n",
        "import matplotlib.pyplot as plt\n",
        "\n",
        "# Ensure OrderDate is in datetime format\n",
        "orders['OrderDate'] = pd.to_datetime(orders['OrderDate'])\n",
        "\n",
        "# Filter for sales in the USA\n",
        "usa_orders = orders[orders['ShipCountry'] == 'USA']\n",
        "\n",
        "# Calculate the Amount for each order detail\n",
        "order_details['Amount'] = order_details['UnitPrice'] * order_details['Quantity'] * (1 - order_details['Discount'])\n",
        "\n",
        "# Merge USA orders with order_details on OrderID\n",
        "merged_usa_sales = pd.merge(usa_orders, order_details[['OrderID', 'Amount']], on='OrderID')\n",
        "\n",
        "# Group by month to sum up sales for each month\n",
        "merged_usa_sales['Month'] = merged_usa_sales['OrderDate'].dt.to_period('M')\n",
        "monthly_sales_usa = merged_usa_sales.groupby('Month')['Amount'].sum().reset_index()\n",
        "monthly_sales_usa.columns = ['ds', 'y']\n",
        "\n",
        "# Convert 'ds' from Period to datetime for Prophet compatibility\n",
        "monthly_sales_usa['ds'] = monthly_sales_usa['ds'].dt.to_timestamp()\n",
        "\n",
        "# Initialize and fit the Prophet model\n",
        "model = Prophet()\n",
        "model.fit(monthly_sales_usa)\n",
        "\n",
        "# Create a DataFrame to hold the future dates for prediction (next 6 months)\n",
        "future = model.make_future_dataframe(periods=3, freq='M')\n",
        "\n",
        "# Use the model to make a forecast\n",
        "forecast = model.predict(future)\n",
        "\n",
        "# Plot the forecast\n",
        "model.plot(forecast)\n",
        "plt.title('Monthly Sales Forecast for the Next 6 Months in the USA')\n",
        "plt.xlabel('Date')\n",
        "plt.ylabel('Sales')\n",
        "plt.show()\n"
      ],
      "metadata": {
        "colab": {
          "base_uri": "https://localhost:8080/",
          "height": 875
        },
        "id": "QBg0aZQPXBWn",
        "outputId": "0fe4a5d3-842e-4707-8f82-143d3187ce28"
      },
      "execution_count": 35,
      "outputs": [
        {
          "output_type": "stream",
          "name": "stderr",
          "text": [
            "INFO:prophet:Disabling yearly seasonality. Run prophet with yearly_seasonality=True to override this.\n",
            "INFO:prophet:Disabling weekly seasonality. Run prophet with weekly_seasonality=True to override this.\n",
            "INFO:prophet:Disabling daily seasonality. Run prophet with daily_seasonality=True to override this.\n",
            "INFO:prophet:n_changepoints greater than number of observations. Using 17.\n",
            "DEBUG:cmdstanpy:input tempfile: /tmp/tmprex40jhl/3z8d045w.json\n",
            "DEBUG:cmdstanpy:input tempfile: /tmp/tmprex40jhl/tbdx0vte.json\n",
            "DEBUG:cmdstanpy:idx 0\n",
            "DEBUG:cmdstanpy:running CmdStan, num_threads: None\n",
            "DEBUG:cmdstanpy:CmdStan args: ['/usr/local/lib/python3.10/dist-packages/prophet/stan_model/prophet_model.bin', 'random', 'seed=16696', 'data', 'file=/tmp/tmprex40jhl/3z8d045w.json', 'init=/tmp/tmprex40jhl/tbdx0vte.json', 'output', 'file=/tmp/tmprex40jhl/prophet_modelsot6cjhf/prophet_model-20240403051628.csv', 'method=optimize', 'algorithm=newton', 'iter=10000']\n",
            "05:16:28 - cmdstanpy - INFO - Chain [1] start processing\n",
            "INFO:cmdstanpy:Chain [1] start processing\n",
            "05:16:28 - cmdstanpy - INFO - Chain [1] done processing\n",
            "INFO:cmdstanpy:Chain [1] done processing\n"
          ]
        },
        {
          "output_type": "display_data",
          "data": {
            "text/plain": [
              "<Figure size 1000x600 with 1 Axes>"
            ],
            "image/png": "[encoded data removed]"
          },
          "metadata": {}
        }
      ]
    },
    {
      "cell_type": "code",
      "source": [],
      "metadata": {
        "colab": {
          "base_uri": "https://localhost:8080/"
        },
        "id": "VrakJq2iZHwx",
        "outputId": "6c067653-7525-421f-9d3b-ce347878b668"
      },
      "execution_count": 37,
      "outputs": [
        {
          "output_type": "stream",
          "name": "stdout",
          "text": [
            "RMSE: 12710.638268\n"
          ]
        }
      ]
    }
  ]
}